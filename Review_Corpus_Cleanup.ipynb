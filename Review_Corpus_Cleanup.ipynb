{
 "cells": [
  {
   "cell_type": "code",
   "execution_count": 1,
   "metadata": {},
   "outputs": [],
   "source": [
    "import pandas as pd\n",
    "import numpy as np \n",
    "import re\n",
    "# nltk.download('stopwords') \n",
    "from nltk.corpus import stopwords \n",
    "from nltk.stem.porter import PorterStemmer\n",
    "from nltk.stem import WordNetLemmatizer \n",
    "# nltk.download('wordnet')\n",
    "from nltk.tokenize import word_tokenize \n",
    "\n",
    "ps = PorterStemmer()\n",
    "lem = WordNetLemmatizer()"
   ]
  },
  {
   "cell_type": "code",
   "execution_count": 2,
   "metadata": {},
   "outputs": [
    {
     "data": {
      "text/html": [
       "<div>\n",
       "<style scoped>\n",
       "    .dataframe tbody tr th:only-of-type {\n",
       "        vertical-align: middle;\n",
       "    }\n",
       "\n",
       "    .dataframe tbody tr th {\n",
       "        vertical-align: top;\n",
       "    }\n",
       "\n",
       "    .dataframe thead th {\n",
       "        text-align: right;\n",
       "    }\n",
       "</style>\n",
       "<table border=\"1\" class=\"dataframe\">\n",
       "  <thead>\n",
       "    <tr style=\"text-align: right;\">\n",
       "      <th></th>\n",
       "      <th>State</th>\n",
       "      <th>Ski Area</th>\n",
       "      <th>Reviewer Name</th>\n",
       "      <th>Review Date</th>\n",
       "      <th>Review Star Rating (out of 5)</th>\n",
       "      <th>Review Text</th>\n",
       "    </tr>\n",
       "  </thead>\n",
       "  <tbody>\n",
       "    <tr>\n",
       "      <th>0</th>\n",
       "      <td>california</td>\n",
       "      <td>squaw-valley-usa</td>\n",
       "      <td>philip sayles</td>\n",
       "      <td>31st December 2019</td>\n",
       "      <td>3</td>\n",
       "      <td>I'm glad our family experienced Squaw but I wo...</td>\n",
       "    </tr>\n",
       "    <tr>\n",
       "      <th>1</th>\n",
       "      <td>california</td>\n",
       "      <td>squaw-valley-usa</td>\n",
       "      <td>mateonelson</td>\n",
       "      <td>22nd May 2019</td>\n",
       "      <td>4</td>\n",
       "      <td>I went skiing today 5/22, granite chief was am...</td>\n",
       "    </tr>\n",
       "    <tr>\n",
       "      <th>2</th>\n",
       "      <td>california</td>\n",
       "      <td>squaw-valley-usa</td>\n",
       "      <td>NaN</td>\n",
       "      <td>7th March 2019</td>\n",
       "      <td>2</td>\n",
       "      <td>We had a horrible experience on our family ski...</td>\n",
       "    </tr>\n",
       "    <tr>\n",
       "      <th>3</th>\n",
       "      <td>california</td>\n",
       "      <td>squaw-valley-usa</td>\n",
       "      <td>Ivan Cazares</td>\n",
       "      <td>5th March 2019</td>\n",
       "      <td>3</td>\n",
       "      <td>This is the first year I ski Squaw. I've been ...</td>\n",
       "    </tr>\n",
       "    <tr>\n",
       "      <th>4</th>\n",
       "      <td>california</td>\n",
       "      <td>squaw-valley-usa</td>\n",
       "      <td>welzbob</td>\n",
       "      <td>26th February 2019</td>\n",
       "      <td>3</td>\n",
       "      <td>Both Squaw and Alpine have incredible terrain,...</td>\n",
       "    </tr>\n",
       "  </tbody>\n",
       "</table>\n",
       "</div>"
      ],
      "text/plain": [
       "        State          Ski Area  Reviewer Name         Review Date  \\\n",
       "0  california  squaw-valley-usa  philip sayles  31st December 2019   \n",
       "1  california  squaw-valley-usa    mateonelson       22nd May 2019   \n",
       "2  california  squaw-valley-usa            NaN      7th March 2019   \n",
       "3  california  squaw-valley-usa   Ivan Cazares      5th March 2019   \n",
       "4  california  squaw-valley-usa        welzbob  26th February 2019   \n",
       "\n",
       "   Review Star Rating (out of 5)  \\\n",
       "0                              3   \n",
       "1                              4   \n",
       "2                              2   \n",
       "3                              3   \n",
       "4                              3   \n",
       "\n",
       "                                         Review Text  \n",
       "0  I'm glad our family experienced Squaw but I wo...  \n",
       "1  I went skiing today 5/22, granite chief was am...  \n",
       "2  We had a horrible experience on our family ski...  \n",
       "3  This is the first year I ski Squaw. I've been ...  \n",
       "4  Both Squaw and Alpine have incredible terrain,...  "
      ]
     },
     "execution_count": 2,
     "metadata": {},
     "output_type": "execute_result"
    }
   ],
   "source": [
    "skiAreaReviewDF = pd.read_csv('OnTheSnow_SkiAreaReviews.csv')\n",
    "skiAreaReviewDF.head()"
   ]
  },
  {
   "cell_type": "code",
   "execution_count": 3,
   "metadata": {},
   "outputs": [
    {
     "name": "stdout",
     "output_type": "stream",
     "text": [
      "<class 'pandas.core.frame.DataFrame'>\n",
      "RangeIndex: 18262 entries, 0 to 18261\n",
      "Data columns (total 6 columns):\n",
      " #   Column                         Non-Null Count  Dtype \n",
      "---  ------                         --------------  ----- \n",
      " 0   State                          18262 non-null  object\n",
      " 1   Ski Area                       18262 non-null  object\n",
      " 2   Reviewer Name                  18153 non-null  object\n",
      " 3   Review Date                    18262 non-null  object\n",
      " 4   Review Star Rating (out of 5)  18262 non-null  int64 \n",
      " 5   Review Text                    18250 non-null  object\n",
      "dtypes: int64(1), object(5)\n",
      "memory usage: 856.2+ KB\n"
     ]
    }
   ],
   "source": [
    "skiAreaReviewDF.info()"
   ]
  },
  {
   "cell_type": "markdown",
   "metadata": {},
   "source": [
    "## Completeness of our data\n",
    "\n",
    "By making a call to .info() we can see that while every reviewer left a rating, \n",
    "we have an unequal number of reviews where text was provided by the reviewer. \n",
    "\n",
    "## Data Cleanup\n",
    "Next lets perform a few steps to get the text for each review cleaned up and ready for Natural Language Processing. \n",
    "First we will define a function that removes any values that are not characters and changes the text to lower case \n",
    "all of this is performed using a regular expression. "
   ]
  },
  {
   "cell_type": "code",
   "execution_count": 4,
   "metadata": {},
   "outputs": [],
   "source": [
    "skiAreaReviewDF = skiAreaReviewDF.loc[:, ['Review Text', 'Review Star Rating (out of 5)']]\n",
    "skiAreaReviewDF = skiAreaReviewDF[skiAreaReviewDF['Review Text'].notnull()]"
   ]
  },
  {
   "cell_type": "code",
   "execution_count": 5,
   "metadata": {},
   "outputs": [
    {
     "name": "stdout",
     "output_type": "stream",
     "text": [
      "<class 'pandas.core.frame.DataFrame'>\n",
      "Int64Index: 18250 entries, 0 to 18261\n",
      "Data columns (total 2 columns):\n",
      " #   Column                         Non-Null Count  Dtype \n",
      "---  ------                         --------------  ----- \n",
      " 0   Review Text                    18250 non-null  object\n",
      " 1   Review Star Rating (out of 5)  18250 non-null  int64 \n",
      "dtypes: int64(1), object(1)\n",
      "memory usage: 427.7+ KB\n"
     ]
    }
   ],
   "source": [
    "skiAreaReviewDF.info()"
   ]
  },
  {
   "cell_type": "code",
   "execution_count": 6,
   "metadata": {},
   "outputs": [
    {
     "data": {
      "text/plain": [
       "\"Best skiing in the Midwest! We've skied all over Northern Michigan and Minnesota and found this to be the best skiing.  Great long runs!  Excellent service.  My daughter snapped the binding on the skis she owns.  The guy in the ski rental shop repaired it in 10 mins at NO charge and she was back on the slopes.   Fantastic new gondola -great scenery and views of Lake Superior - can't get that out west!\""
      ]
     },
     "execution_count": 6,
     "metadata": {},
     "output_type": "execute_result"
    }
   ],
   "source": [
    "skiAreaReviewDF['Review Text'][7332]"
   ]
  },
  {
   "cell_type": "code",
   "execution_count": 7,
   "metadata": {},
   "outputs": [],
   "source": [
    "#https://stackoverflow.com/questions/19790188/expanding-english-language-contractions-in-python\n",
    "contractionsDict = pd.read_csv('ContractionsDict.csv').set_index('Key')['Value'].to_dict()"
   ]
  },
  {
   "cell_type": "code",
   "execution_count": 8,
   "metadata": {},
   "outputs": [],
   "source": [
    "def contractionsHandler(word, contractionsDict):\n",
    "    splitWord = word.split()\n",
    "    tempList = []\n",
    "    for contraction in splitWord:\n",
    "        if contraction.lower() in contractionsDict.keys():\n",
    "            uncontracted = contractionsDict[contraction.lower()]\n",
    "            tempList.append(uncontracted)\n",
    "        else:\n",
    "            tempList.append(contraction)\n",
    "    return ' '.join(tempList)"
   ]
  },
  {
   "cell_type": "code",
   "execution_count": 9,
   "metadata": {},
   "outputs": [],
   "source": [
    "#contractionsDict\n",
    "\n",
    "#contractionsDict[\"i've\"]"
   ]
  },
  {
   "cell_type": "code",
   "execution_count": 10,
   "metadata": {},
   "outputs": [],
   "source": [
    "skiAreaReviewDF['Clean Reviews'] = skiAreaReviewDF['Review Text'].apply(lambda x: contractionsHandler(str(x), contractionsDict))"
   ]
  },
  {
   "cell_type": "code",
   "execution_count": 11,
   "metadata": {},
   "outputs": [
    {
     "data": {
      "text/plain": [
       "'Best skiing in the Midwest! we have skied all over Northern Michigan and Minnesota and found this to be the best skiing. Great long runs! Excellent service. My daughter snapped the binding on the skis she owns. The guy in the ski rental shop repaired it in 10 mins at NO charge and she was back on the slopes. Fantastic new gondola -great scenery and views of Lake Superior - cannot get that out west!'"
      ]
     },
     "execution_count": 11,
     "metadata": {},
     "output_type": "execute_result"
    }
   ],
   "source": [
    "skiAreaReviewDF['Clean Reviews'][7332]"
   ]
  },
  {
   "cell_type": "code",
   "execution_count": 12,
   "metadata": {},
   "outputs": [],
   "source": [
    "def replacer(x):\n",
    "    x = re.sub(\"[^\\'a-zA-Z]\", ' ', x) \n",
    "    x = re.sub(r\"\\s+\", ' ', x) \n",
    "    x = re.sub(r\"\\n\", ' ', x) \n",
    "    x = re.sub(\"'\", '', x) \n",
    "    x = x.lower()\n",
    "    return x"
   ]
  },
  {
   "cell_type": "code",
   "execution_count": 13,
   "metadata": {},
   "outputs": [],
   "source": [
    "skiAreaReviewDF['Clean Reviews'] = skiAreaReviewDF['Clean Reviews'].apply(lambda x: replacer(str(x)))"
   ]
  },
  {
   "cell_type": "code",
   "execution_count": 14,
   "metadata": {},
   "outputs": [
    {
     "data": {
      "text/plain": [
       "'best skiing in the midwest we have skied all over northern michigan and minnesota and found this to be the best skiing great long runs excellent service my daughter snapped the binding on the skis she owns the guy in the ski rental shop repaired it in mins at no charge and she was back on the slopes fantastic new gondola great scenery and views of lake superior cannot get that out west '"
      ]
     },
     "execution_count": 14,
     "metadata": {},
     "output_type": "execute_result"
    }
   ],
   "source": [
    "skiAreaReviewDF['Clean Reviews'][7332]"
   ]
  },
  {
   "cell_type": "code",
   "execution_count": 15,
   "metadata": {},
   "outputs": [
    {
     "data": {
      "text/html": [
       "<div>\n",
       "<style scoped>\n",
       "    .dataframe tbody tr th:only-of-type {\n",
       "        vertical-align: middle;\n",
       "    }\n",
       "\n",
       "    .dataframe tbody tr th {\n",
       "        vertical-align: top;\n",
       "    }\n",
       "\n",
       "    .dataframe thead th {\n",
       "        text-align: right;\n",
       "    }\n",
       "</style>\n",
       "<table border=\"1\" class=\"dataframe\">\n",
       "  <thead>\n",
       "    <tr style=\"text-align: right;\">\n",
       "      <th></th>\n",
       "      <th>Review Text</th>\n",
       "      <th>Review Star Rating (out of 5)</th>\n",
       "      <th>Clean Reviews</th>\n",
       "    </tr>\n",
       "  </thead>\n",
       "  <tbody>\n",
       "    <tr>\n",
       "      <th>8</th>\n",
       "      <td>,</td>\n",
       "      <td>5</td>\n",
       "      <td></td>\n",
       "    </tr>\n",
       "    <tr>\n",
       "      <th>10</th>\n",
       "      <td>,</td>\n",
       "      <td>5</td>\n",
       "      <td></td>\n",
       "    </tr>\n",
       "    <tr>\n",
       "      <th>1790</th>\n",
       "      <td>.\\r</td>\n",
       "      <td>1</td>\n",
       "      <td></td>\n",
       "    </tr>\n",
       "    <tr>\n",
       "      <th>1827</th>\n",
       "      <td>.\\r</td>\n",
       "      <td>1</td>\n",
       "      <td></td>\n",
       "    </tr>\n",
       "    <tr>\n",
       "      <th>3560</th>\n",
       "      <td>.</td>\n",
       "      <td>4</td>\n",
       "      <td></td>\n",
       "    </tr>\n",
       "  </tbody>\n",
       "</table>\n",
       "</div>"
      ],
      "text/plain": [
       "     Review Text  Review Star Rating (out of 5) Clean Reviews\n",
       "8             ,                               5              \n",
       "10            ,                               5              \n",
       "1790         .\\r                              1              \n",
       "1827         .\\r                              1              \n",
       "3560           .                              4              "
      ]
     },
     "execution_count": 15,
     "metadata": {},
     "output_type": "execute_result"
    }
   ],
   "source": [
    "skiAreaReviewDF[skiAreaReviewDF['Clean Reviews'] == ' '].head()\n"
   ]
  },
  {
   "cell_type": "code",
   "execution_count": 16,
   "metadata": {},
   "outputs": [],
   "source": [
    "skiAreaReviewDF = skiAreaReviewDF[skiAreaReviewDF['Clean Reviews'] != ' '] "
   ]
  },
  {
   "cell_type": "code",
   "execution_count": 17,
   "metadata": {},
   "outputs": [
    {
     "name": "stdout",
     "output_type": "stream",
     "text": [
      "<class 'pandas.core.frame.DataFrame'>\n",
      "Int64Index: 18222 entries, 0 to 18261\n",
      "Data columns (total 3 columns):\n",
      " #   Column                         Non-Null Count  Dtype \n",
      "---  ------                         --------------  ----- \n",
      " 0   Review Text                    18222 non-null  object\n",
      " 1   Review Star Rating (out of 5)  18222 non-null  int64 \n",
      " 2   Clean Reviews                  18222 non-null  object\n",
      "dtypes: int64(1), object(2)\n",
      "memory usage: 569.4+ KB\n"
     ]
    }
   ],
   "source": [
    "skiAreaReviewDF.info()"
   ]
  },
  {
   "cell_type": "code",
   "execution_count": 18,
   "metadata": {},
   "outputs": [],
   "source": [
    "def wordCounter(x):\n",
    "    return len(x.split())"
   ]
  },
  {
   "cell_type": "code",
   "execution_count": 19,
   "metadata": {},
   "outputs": [],
   "source": [
    "skiAreaReviewDF['Word Count'] = skiAreaReviewDF['Clean Reviews'].apply(lambda x: wordCounter(x))"
   ]
  },
  {
   "cell_type": "code",
   "execution_count": 20,
   "metadata": {},
   "outputs": [],
   "source": [
    "skiAreaReviewDF = skiAreaReviewDF[skiAreaReviewDF['Word Count'] > 1]"
   ]
  },
  {
   "cell_type": "code",
   "execution_count": 21,
   "metadata": {},
   "outputs": [
    {
     "name": "stdout",
     "output_type": "stream",
     "text": [
      "<class 'pandas.core.frame.DataFrame'>\n",
      "Int64Index: 18041 entries, 0 to 18261\n",
      "Data columns (total 4 columns):\n",
      " #   Column                         Non-Null Count  Dtype \n",
      "---  ------                         --------------  ----- \n",
      " 0   Review Text                    18041 non-null  object\n",
      " 1   Review Star Rating (out of 5)  18041 non-null  int64 \n",
      " 2   Clean Reviews                  18041 non-null  object\n",
      " 3   Word Count                     18041 non-null  int64 \n",
      "dtypes: int64(2), object(2)\n",
      "memory usage: 704.7+ KB\n"
     ]
    }
   ],
   "source": [
    "skiAreaReviewDF.info()"
   ]
  },
  {
   "cell_type": "code",
   "execution_count": 22,
   "metadata": {},
   "outputs": [],
   "source": [
    "def stemmer(x, ps):\n",
    "    x = word_tokenize(x)\n",
    "    x = [ps.stem(word) for word in x\n",
    "                if not word in set(stopwords.words('english')) and word is not np.nan]\n",
    "    x = ' '.join(x)\n",
    "    return x"
   ]
  },
  {
   "cell_type": "code",
   "execution_count": 23,
   "metadata": {},
   "outputs": [],
   "source": [
    "skiAreaReviewDF['Clean Reviews Stemmed'] = skiAreaReviewDF['Clean Reviews'].apply(lambda x: stemmer(x, ps))"
   ]
  },
  {
   "cell_type": "code",
   "execution_count": 24,
   "metadata": {},
   "outputs": [
    {
     "data": {
      "text/plain": [
       "'best ski midwest ski northern michigan minnesota found best ski great long run excel servic daughter snap bind ski own guy ski rental shop repair min charg back slope fantast new gondola great sceneri view lake superior get west'"
      ]
     },
     "execution_count": 24,
     "metadata": {},
     "output_type": "execute_result"
    }
   ],
   "source": [
    "skiAreaReviewDF['Clean Reviews Stemmed'][7332]"
   ]
  },
  {
   "cell_type": "code",
   "execution_count": 25,
   "metadata": {},
   "outputs": [],
   "source": [
    "def lemmer(x, lem):\n",
    "    x = word_tokenize(x)\n",
    "    x = [lem.lemmatize(word) for word in x\n",
    "                if not word in set(stopwords.words('english')) and word is not np.nan]\n",
    "    x = ' '.join(x)\n",
    "    return x"
   ]
  },
  {
   "cell_type": "code",
   "execution_count": 26,
   "metadata": {},
   "outputs": [],
   "source": [
    "skiAreaReviewDF['Clean Reviews Lemmed'] = skiAreaReviewDF['Clean Reviews'].apply(lambda x: lemmer(x, lem))"
   ]
  },
  {
   "cell_type": "code",
   "execution_count": 27,
   "metadata": {},
   "outputs": [
    {
     "data": {
      "text/plain": [
       "'best skiing midwest skied northern michigan minnesota found best skiing great long run excellent service daughter snapped binding ski owns guy ski rental shop repaired min charge back slope fantastic new gondola great scenery view lake superior get west'"
      ]
     },
     "execution_count": 27,
     "metadata": {},
     "output_type": "execute_result"
    }
   ],
   "source": [
    "skiAreaReviewDF['Clean Reviews Lemmed'][7332]"
   ]
  },
  {
   "cell_type": "code",
   "execution_count": 28,
   "metadata": {},
   "outputs": [],
   "source": [
    "skiAreaReviewDF['Clean Reviews Lemmed and Stemmed'] = skiAreaReviewDF['Clean Reviews Lemmed'].apply(lambda x: stemmer(x, ps))"
   ]
  },
  {
   "cell_type": "code",
   "execution_count": 29,
   "metadata": {},
   "outputs": [
    {
     "name": "stdout",
     "output_type": "stream",
     "text": [
      "<class 'pandas.core.frame.DataFrame'>\n",
      "Int64Index: 18041 entries, 0 to 18261\n",
      "Data columns (total 7 columns):\n",
      " #   Column                            Non-Null Count  Dtype \n",
      "---  ------                            --------------  ----- \n",
      " 0   Review Text                       18041 non-null  object\n",
      " 1   Review Star Rating (out of 5)     18041 non-null  int64 \n",
      " 2   Clean Reviews                     18041 non-null  object\n",
      " 3   Word Count                        18041 non-null  int64 \n",
      " 4   Clean Reviews Stemmed             18041 non-null  object\n",
      " 5   Clean Reviews Lemmed              18041 non-null  object\n",
      " 6   Clean Reviews Lemmed and Stemmed  18041 non-null  object\n",
      "dtypes: int64(2), object(5)\n",
      "memory usage: 1.7+ MB\n"
     ]
    }
   ],
   "source": [
    "skiAreaReviewDF.info()"
   ]
  },
  {
   "cell_type": "code",
   "execution_count": 32,
   "metadata": {},
   "outputs": [
    {
     "data": {
      "text/plain": [
       "'best ski midwest ski northern michigan minnesota found best ski great long run excel servic daughter snap bind ski own guy ski rental shop repair min charg back slope fantast new gondola great sceneri view lake superior get west'"
      ]
     },
     "execution_count": 32,
     "metadata": {},
     "output_type": "execute_result"
    }
   ],
   "source": [
    "skiAreaReviewDF['Clean Reviews Lemmed and Stemmed'][7332]"
   ]
  },
  {
   "cell_type": "code",
   "execution_count": 34,
   "metadata": {},
   "outputs": [],
   "source": [
    "skiAreaReviewDF.to_csv('ProcessedReviews.csv', index=False)"
   ]
  }
 ],
 "metadata": {
  "kernelspec": {
   "display_name": "Python 3",
   "language": "python",
   "name": "python3"
  },
  "language_info": {
   "codemirror_mode": {
    "name": "ipython",
    "version": 3
   },
   "file_extension": ".py",
   "mimetype": "text/x-python",
   "name": "python",
   "nbconvert_exporter": "python",
   "pygments_lexer": "ipython3",
   "version": "3.7.6"
  }
 },
 "nbformat": 4,
 "nbformat_minor": 4
}
